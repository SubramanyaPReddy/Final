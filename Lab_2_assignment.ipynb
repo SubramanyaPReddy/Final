{
  "cells": [
    {
      "cell_type": "code",
      "source": [
        "from google.colab import drive\n",
        "drive.mount('/content/drive')"
      ],
      "metadata": {
        "colab": {
          "base_uri": "https://localhost:8080/"
        },
        "id": "XfSxpZgCPyGe",
        "outputId": "c68855f7-5f89-42a8-c0a1-42054a959221"
      },
      "id": "XfSxpZgCPyGe",
      "execution_count": 1,
      "outputs": [
        {
          "output_type": "stream",
          "name": "stdout",
          "text": [
            "Mounted at /content/drive\n"
          ]
        }
      ]
    },
    {
      "cell_type": "code",
      "execution_count": 7,
      "id": "b3ca3dd7-a8e0-42a8-9950-7d4c3fc25a0a",
      "metadata": {
        "colab": {
          "base_uri": "https://localhost:8080/"
        },
        "id": "b3ca3dd7-a8e0-42a8-9950-7d4c3fc25a0a",
        "outputId": "ea944bc2-d074-42d8-a9a5-c766d7d52275"
      },
      "outputs": [
        {
          "output_type": "stream",
          "name": "stdout",
          "text": [
            "Dataset: images - Shape: (250, 128, 128, 3) - Data type: uint8\n",
            "Dataset: labels - Shape: (250,) - Data type: int32\n"
          ]
        }
      ],
      "source": [
        "import h5py\n",
        "\n",
        "# Open the HDF5 file\n",
        "train_path = r'/content/drive/MyDrive/Deep Learning/Lab2/Tr.h5'  # Replace with your file path\n",
        "with h5py.File(train_path, 'r') as file:\n",
        "    # Recursively print the structure of the file\n",
        "    def print_structure(name, obj):\n",
        "        if isinstance(obj, h5py.Group):\n",
        "            print(f\"Group: {name}\")\n",
        "        elif isinstance(obj, h5py.Dataset):\n",
        "            print(f\"Dataset: {name} - Shape: {obj.shape} - Data type: {obj.dtype}\")\n",
        "\n",
        "    file.visititems(print_structure)"
      ]
    },
    {
      "cell_type": "code",
      "execution_count": 8,
      "id": "ad6a82bf-ff1b-4f0f-9e2f-4b4771f92012",
      "metadata": {
        "colab": {
          "base_uri": "https://localhost:8080/"
        },
        "id": "ad6a82bf-ff1b-4f0f-9e2f-4b4771f92012",
        "outputId": "49cd2c1d-0ec8-4774-9de7-70ce9809b277"
      },
      "outputs": [
        {
          "output_type": "stream",
          "name": "stdout",
          "text": [
            "Dataset: images - Shape: (250, 128, 128, 3) - Data type: uint8\n",
            "Dataset: labels - Shape: (250,) - Data type: int32\n"
          ]
        }
      ],
      "source": [
        "import h5py\n",
        "\n",
        "# Open the HDF5 file\n",
        "test_path = r'/content/drive/MyDrive/Deep Learning/Lab2/Te.h5'  # Replace with your file path\n",
        "with h5py.File(train_path, 'r') as file:\n",
        "    # Recursively print the structure of the file\n",
        "    def print_structure(name, obj):\n",
        "        if isinstance(obj, h5py.Group):\n",
        "            print(f\"Group: {name}\")\n",
        "        elif isinstance(obj, h5py.Dataset):\n",
        "            print(f\"Dataset: {name} - Shape: {obj.shape} - Data type: {obj.dtype}\")\n",
        "\n",
        "    file.visititems(print_structure)"
      ]
    },
    {
      "cell_type": "code",
      "execution_count": 11,
      "id": "24e159b4-2b84-4297-b229-01322422c6b6",
      "metadata": {
        "id": "24e159b4-2b84-4297-b229-01322422c6b6"
      },
      "outputs": [],
      "source": [
        "import numpy as np\n",
        "import h5py\n",
        "import matplotlib.pyplot as plt\n",
        "\n",
        "def load_dataset():\n",
        "    train_dataset = h5py.File('/content/drive/MyDrive/Deep Learning/Lab2/Tr.h5', \"r\")\n",
        "    train_set_x_orig = np.array(train_dataset[\"images\"][:])  # your train set features\n",
        "    train_set_y_orig = np.array(train_dataset[\"labels\"][:])  # your train set labels\n",
        "\n",
        "    test_dataset = h5py.File('/content/drive/MyDrive/Deep Learning/Lab2/Te.h5', \"r\")\n",
        "    test_set_x_orig = np.array(test_dataset[\"images\"][:])  # your test set features\n",
        "    test_set_y_orig = np.array(test_dataset[\"labels\"][:])  # your test set labels\n",
        "\n",
        "    return train_set_x_orig, train_set_y_orig, test_set_x_orig, test_set_y_orig\n",
        "\n",
        "def preprocess_data(X, Y, num_classes):\n",
        "    X = X / 255.0  # Normalize pixel values\n",
        "    Y = np.eye(num_classes)[Y.reshape(-1)]  # One-hot encoding\n",
        "    return X, Y\n",
        "\n",
        "train_set_x_orig, train_set_y_orig, test_set_x_orig, test_set_y_orig = load_dataset()\n",
        "\n",
        "# Preprocess the data\n",
        "num_classes = 5\n",
        "train_x, train_y = preprocess_data(train_set_x_orig, train_set_y_orig, num_classes)\n",
        "test_x, test_y = preprocess_data(test_set_x_orig, test_set_y_orig, num_classes)\n",
        "\n",
        "# Flatten the data\n",
        "train_x_flatten = train_x.reshape(train_x.shape[0], -1).T\n",
        "test_x_flatten = test_x.reshape(test_x.shape[0], -1).T\n"
      ]
    },
    {
      "cell_type": "code",
      "execution_count": 12,
      "id": "b759d094-377c-408a-8782-835aed84eb39",
      "metadata": {
        "id": "b759d094-377c-408a-8782-835aed84eb39"
      },
      "outputs": [],
      "source": [
        "def softmax(Z):\n",
        "    exp_Z = np.exp(Z - np.max(Z, axis=0, keepdims=True))\n",
        "    return exp_Z / np.sum(exp_Z, axis=0, keepdims=True)\n"
      ]
    },
    {
      "cell_type": "code",
      "execution_count": 13,
      "id": "3ed0b66b-672f-414c-9ff4-2aa0ca747c05",
      "metadata": {
        "id": "3ed0b66b-672f-414c-9ff4-2aa0ca747c05"
      },
      "outputs": [],
      "source": [
        "def compute_cost(AL, Y):\n",
        "    m = Y.shape[1]\n",
        "    cost = -np.sum(np.multiply(Y, np.log(AL))) / m\n",
        "    return np.squeeze(cost)\n"
      ]
    },
    {
      "cell_type": "code",
      "execution_count": 14,
      "id": "f48d6655-cc4a-4cb6-bac3-5836f2957235",
      "metadata": {
        "id": "f48d6655-cc4a-4cb6-bac3-5836f2957235"
      },
      "outputs": [],
      "source": [
        "def initialize_parameters_deep(layer_dims):\n",
        "    np.random.seed(1)\n",
        "    parameters = {}\n",
        "    L = len(layer_dims)\n",
        "\n",
        "    for l in range(1, L):\n",
        "        parameters['W' + str(l)] = np.random.randn(layer_dims[l], layer_dims[l - 1]) * 0.01\n",
        "        parameters['b' + str(l)] = np.zeros((layer_dims[l], 1))\n",
        "\n",
        "    return parameters\n",
        "\n",
        "def linear_forward(A, W, b):\n",
        "    Z = np.dot(W, A) + b\n",
        "    return Z\n",
        "\n",
        "def linear_activation_forward(A_prev, W, b, activation):\n",
        "    Z = linear_forward(A_prev, W, b)\n",
        "    if activation == \"relu\":\n",
        "        A = np.maximum(0, Z)\n",
        "    elif activation == \"softmax\":\n",
        "        A = softmax(Z)\n",
        "    return A, Z\n",
        "\n",
        "def L_model_forward(X, parameters):\n",
        "    A = X\n",
        "    L = len(parameters) // 2\n",
        "    caches = []\n",
        "\n",
        "    for l in range(1, L):\n",
        "        A_prev = A\n",
        "        A, Z = linear_activation_forward(A_prev, parameters['W' + str(l)], parameters['b' + str(l)], \"relu\")\n",
        "        caches.append((A_prev, parameters['W' + str(l)], parameters['b' + str(l)], Z))\n",
        "\n",
        "    AL, ZL = linear_activation_forward(A, parameters['W' + str(L)], parameters['b' + str(L)], \"softmax\")\n",
        "    caches.append((A, parameters['W' + str(L)], parameters['b' + str(L)], ZL))\n",
        "\n",
        "    return AL, caches\n",
        "\n",
        "def linear_backward(dZ, A_prev, W, b):\n",
        "    m = A_prev.shape[1]\n",
        "    dW = np.dot(dZ, A_prev.T) / m\n",
        "    db = np.sum(dZ, axis=1, keepdims=True) / m\n",
        "    dA_prev = np.dot(W.T, dZ)\n",
        "    return dA_prev, dW, db\n",
        "\n",
        "def linear_activation_backward(dA, cache, activation):\n",
        "    A_prev, W, b, Z = cache\n",
        "\n",
        "    if activation == \"relu\":\n",
        "        dZ = np.array(dA, copy=True)\n",
        "        dZ[Z <= 0] = 0\n",
        "    elif activation == \"softmax\":\n",
        "        dZ = dA\n",
        "\n",
        "    dA_prev, dW, db = linear_backward(dZ, A_prev, W, b)\n",
        "    return dA_prev, dW, db\n",
        "\n",
        "def L_model_backward(AL, Y, caches):\n",
        "    grads = {}\n",
        "    L = len(caches)\n",
        "    m = AL.shape[1]\n",
        "\n",
        "    dAL = AL - Y\n",
        "\n",
        "    current_cache = caches[-1]\n",
        "    grads[\"dA\" + str(L)], grads[\"dW\" + str(L)], grads[\"db\" + str(L)] = linear_activation_backward(dAL, current_cache, \"softmax\")\n",
        "\n",
        "    for l in reversed(range(L-1)):\n",
        "        current_cache = caches[l]\n",
        "        dA_prev_temp, dW_temp, db_temp = linear_activation_backward(grads[\"dA\" + str(l+2)], current_cache, \"relu\")\n",
        "        grads[\"dA\" + str(l+1)] = dA_prev_temp\n",
        "        grads[\"dW\" + str(l+1)] = dW_temp\n",
        "        grads[\"db\" + str(l+1)] = db_temp\n",
        "\n",
        "    return grads\n",
        "\n",
        "def update_parameters(parameters, grads, learning_rate):\n",
        "    L = len(parameters) // 2\n",
        "\n",
        "    for l in range(L):\n",
        "        parameters[\"W\" + str(l+1)] -= learning_rate * grads[\"dW\" + str(l+1)]\n",
        "        parameters[\"b\" + str(l+1)] -= learning_rate * grads[\"db\" + str(l+1)]\n",
        "\n",
        "    return parameters\n"
      ]
    },
    {
      "cell_type": "code",
      "execution_count": 15,
      "id": "7a7e1bd8-2d45-4211-9f07-e9fe6c8c0e22",
      "metadata": {
        "id": "7a7e1bd8-2d45-4211-9f07-e9fe6c8c0e22"
      },
      "outputs": [],
      "source": [
        "def L_layer_model(X, Y, layers_dims, learning_rate, num_iterations, print_cost):\n",
        "    np.random.seed(1)\n",
        "    costs = []\n",
        "    parameters = initialize_parameters_deep(layers_dims)\n",
        "\n",
        "    for i in range(0, num_iterations):\n",
        "        AL, caches = L_model_forward(X, parameters)\n",
        "        cost = compute_cost(AL, Y)\n",
        "        grads = L_model_backward(AL, Y, caches)\n",
        "        parameters = update_parameters(parameters, grads, learning_rate)\n",
        "\n",
        "        if print_cost and i % 100 == 0:\n",
        "            print(f\"Cost after iteration {i}: {cost}\")\n",
        "        if i % 100 == 0:\n",
        "            costs.append(cost)\n",
        "\n",
        "    plt.plot(np.squeeze(costs))\n",
        "    plt.ylabel('Cost')\n",
        "    plt.xlabel('Iterations (per hundreds)')\n",
        "    plt.title(f\"Learning rate = {learning_rate}\")\n",
        "    plt.show()\n",
        "\n",
        "    return parameters"
      ]
    },
    {
      "cell_type": "code",
      "execution_count": 16,
      "id": "ad19f419-1ee5-4d0f-b739-d97abd0d91ff",
      "metadata": {
        "id": "ad19f419-1ee5-4d0f-b739-d97abd0d91ff"
      },
      "outputs": [],
      "source": [
        "def predict(X, parameters):\n",
        "    AL, _ = L_model_forward(X, parameters)\n",
        "    predictions = np.argmax(AL, axis=0)\n",
        "    return predictions"
      ]
    },
    {
      "cell_type": "code",
      "execution_count": 17,
      "id": "36984aa6-da2f-4b5c-a5b7-0f0d9134448d",
      "metadata": {
        "colab": {
          "base_uri": "https://localhost:8080/",
          "height": 744
        },
        "id": "36984aa6-da2f-4b5c-a5b7-0f0d9134448d",
        "outputId": "71d653bd-bcc7-470e-eb9c-e852552851f6"
      },
      "outputs": [
        {
          "output_type": "stream",
          "name": "stdout",
          "text": [
            "Cost after iteration 0: 1.609499084545219\n",
            "Cost after iteration 100: 1.6093818799254325\n",
            "Cost after iteration 200: 1.6092906216046894\n",
            "Cost after iteration 300: 1.6091556975407797\n",
            "Cost after iteration 400: 1.6089196479693837\n",
            "Cost after iteration 500: 1.6084352413686576\n",
            "Cost after iteration 600: 1.6072270342555834\n",
            "Cost after iteration 700: 1.6033242157286531\n",
            "Cost after iteration 800: 1.5869577626021663\n",
            "Cost after iteration 900: 1.5403265274439253\n",
            "Cost after iteration 1000: 1.4803761189367817\n",
            "Cost after iteration 1100: 1.3439250425457354\n",
            "Cost after iteration 1200: 1.272024327357126\n",
            "Cost after iteration 1300: 1.1394547987726646\n",
            "Cost after iteration 1400: 0.9233816777381412\n"
          ]
        },
        {
          "output_type": "display_data",
          "data": {
            "text/plain": [
              "<Figure size 640x480 with 1 Axes>"
            ],
            "image/png": "[encoded data removed]"
          },
          "metadata": {}
        }
      ],
      "source": [
        "layers_dims = [128 *128 * 3, 32, 8,5]\n",
        "parameters = L_layer_model(train_x_flatten, train_y.T, layers_dims, learning_rate=0.01, num_iterations=1500, print_cost=True)"
      ]
    },
    {
      "cell_type": "code",
      "execution_count": 18,
      "id": "e49e68a3-6cb6-4de7-8dd0-4fe4856422b4",
      "metadata": {
        "colab": {
          "base_uri": "https://localhost:8080/"
        },
        "id": "e49e68a3-6cb6-4de7-8dd0-4fe4856422b4",
        "outputId": "7a9dee99-7d7d-401c-8e99-1e43c7466560"
      },
      "outputs": [
        {
          "output_type": "stream",
          "name": "stdout",
          "text": [
            "Train Accuracy: 75.6%\n",
            "Test Accuracy: 42.0%\n"
          ]
        }
      ],
      "source": [
        "train_pred = predict(train_x_flatten, parameters)\n",
        "test_pred = predict(test_x_flatten, parameters)\n",
        "\n",
        "train_accuracy = np.mean(train_pred == np.argmax(train_y, axis=1)) * 100\n",
        "test_accuracy = np.mean(test_pred == np.argmax(test_y, axis=1)) * 100\n",
        "\n",
        "print(f\"Train Accuracy: {train_accuracy}%\")\n",
        "print(f\"Test Accuracy: {test_accuracy}%\")"
      ]
    },
    {
      "cell_type": "code",
      "execution_count": 19,
      "id": "97e25bff-fe91-4ebe-a420-c1f11e185dda",
      "metadata": {
        "colab": {
          "base_uri": "https://localhost:8080/",
          "height": 1000
        },
        "id": "97e25bff-fe91-4ebe-a420-c1f11e185dda",
        "outputId": "96373a9d-2e89-4aa3-9d15-7b094d655dba"
      },
      "outputs": [
        {
          "output_type": "stream",
          "name": "stdout",
          "text": [
            "Cost after iteration 0: 1.6095547093839042\n",
            "Cost after iteration 100: 1.6095126265271191\n",
            "Cost after iteration 200: 1.609472483902908\n",
            "Cost after iteration 300: 1.6094335467007848\n",
            "Cost after iteration 400: 1.6093960047530935\n",
            "Cost after iteration 500: 1.6093591451106206\n",
            "Cost after iteration 600: 1.6093225712060812\n",
            "Cost after iteration 700: 1.6092860183768725\n",
            "Cost after iteration 800: 1.60924831122537\n",
            "Cost after iteration 900: 1.6092093106446914\n",
            "Cost after iteration 1000: 1.6091698684792504\n",
            "Cost after iteration 1100: 1.6091297391502108\n",
            "Cost after iteration 1200: 1.609089236249111\n",
            "Cost after iteration 1300: 1.6090480021492397\n",
            "Cost after iteration 1400: 1.6090048509906578\n",
            "Cost after iteration 1500: 1.6089584409390276\n",
            "Cost after iteration 1600: 1.6089099635092712\n",
            "Cost after iteration 1700: 1.6088576009806648\n",
            "Cost after iteration 1800: 1.6088024716591034\n",
            "Cost after iteration 1900: 1.6087452687951944\n",
            "Cost after iteration 2000: 1.6086849170029152\n",
            "Cost after iteration 2100: 1.608618977871566\n",
            "Cost after iteration 2200: 1.6085501390145527\n",
            "Cost after iteration 2300: 1.6084759217965099\n",
            "Cost after iteration 2400: 1.6083968203701025\n",
            "Cost after iteration 2500: 1.60831271196597\n",
            "Cost after iteration 2600: 1.6082231688333473\n",
            "Cost after iteration 2700: 1.6081268682557666\n",
            "Cost after iteration 2800: 1.6080215751975222\n",
            "Cost after iteration 2900: 1.6079065554774525\n",
            "Cost after iteration 3000: 1.6077771735733668\n",
            "Cost after iteration 3100: 1.6076392166996767\n",
            "Cost after iteration 3200: 1.607491489381013\n",
            "Cost after iteration 3300: 1.6073299159135768\n",
            "Cost after iteration 3400: 1.6071529305086187\n",
            "Cost after iteration 3500: 1.6069587215579026\n",
            "Cost after iteration 3600: 1.6067438401896361\n",
            "Cost after iteration 3700: 1.6065048198936638\n",
            "Cost after iteration 3800: 1.606237487899125\n",
            "Cost after iteration 3900: 1.60594161605756\n",
            "Cost after iteration 4000: 1.6056104575840202\n",
            "Cost after iteration 4100: 1.605239025017354\n",
            "Cost after iteration 4200: 1.604822735122457\n",
            "Cost after iteration 4300: 1.6043516690819912\n",
            "Cost after iteration 4400: 1.6038173052518874\n",
            "Cost after iteration 4500: 1.6032105730272104\n",
            "Cost after iteration 4600: 1.6025216478825972\n",
            "Cost after iteration 4700: 1.6017340657978956\n",
            "Cost after iteration 4800: 1.6008311482007789\n",
            "Cost after iteration 4900: 1.5997922822269717\n"
          ]
        },
        {
          "output_type": "display_data",
          "data": {
            "text/plain": [
              "<Figure size 640x480 with 1 Axes>"
            ],
            "image/png": "[encoded data removed]"
          },
          "metadata": {}
        }
      ],
      "source": [
        "layers_dims = [train_x_flatten.shape[0], 64, 32,5]\n",
        "parameters = L_layer_model(train_x_flatten, train_y.T, layers_dims, learning_rate=0.001, num_iterations=5000, print_cost=True)"
      ]
    },
    {
      "cell_type": "code",
      "execution_count": 20,
      "id": "1fcac006-1832-4c1d-8bfe-121c24dc5bad",
      "metadata": {
        "colab": {
          "base_uri": "https://localhost:8080/"
        },
        "id": "1fcac006-1832-4c1d-8bfe-121c24dc5bad",
        "outputId": "7ef39ee0-4957-424b-97e0-b77c1bd8e48c"
      },
      "outputs": [
        {
          "output_type": "stream",
          "name": "stdout",
          "text": [
            "Train Accuracy: 21.6%\n",
            "Test Accuracy: 20.0%\n"
          ]
        }
      ],
      "source": [
        "train_pred = predict(train_x_flatten, parameters)\n",
        "test_pred = predict(test_x_flatten, parameters)\n",
        "\n",
        "train_accuracy = np.mean(train_pred == np.argmax(train_y, axis=1)) * 100\n",
        "test_accuracy = np.mean(test_pred == np.argmax(test_y, axis=1)) * 100\n",
        "print(f\"Train Accuracy: {train_accuracy}%\")\n",
        "print(f\"Test Accuracy: {test_accuracy}%\")\n"
      ]
    },
    {
      "cell_type": "code",
      "execution_count": 21,
      "id": "13468d9a-c8bc-4a3a-90bf-faddd91d0d52",
      "metadata": {
        "colab": {
          "base_uri": "https://localhost:8080/",
          "height": 1000
        },
        "id": "13468d9a-c8bc-4a3a-90bf-faddd91d0d52",
        "outputId": "f067ac72-efbd-4813-cc24-030bf3b1f018"
      },
      "outputs": [
        {
          "output_type": "stream",
          "name": "stdout",
          "text": [
            "Cost after iteration 0: 1.6095547093839042\n",
            "Cost after iteration 100: 1.6091701627705748\n",
            "Cost after iteration 200: 1.6086869859206043\n",
            "Cost after iteration 300: 1.6077855848300495\n",
            "Cost after iteration 400: 1.6056416212932845\n",
            "Cost after iteration 500: 1.598757233942481\n",
            "Cost after iteration 600: 1.5716572389814167\n",
            "Cost after iteration 700: 1.5137292677599257\n",
            "Cost after iteration 800: 1.4102492093509553\n",
            "Cost after iteration 900: 1.1863162367684492\n",
            "Cost after iteration 1000: 0.9721459264638568\n",
            "Cost after iteration 1100: 0.826077768260767\n",
            "Cost after iteration 1200: 0.5453117872983722\n",
            "Cost after iteration 1300: 0.46817802477484594\n",
            "Cost after iteration 1400: 0.3052504398571987\n",
            "Cost after iteration 1500: 1.1713654145468975\n",
            "Cost after iteration 1600: 0.18758927166771538\n",
            "Cost after iteration 1700: 1.4008515909115018\n",
            "Cost after iteration 1800: 0.0775578603086288\n",
            "Cost after iteration 1900: 0.051685826252984235\n",
            "Cost after iteration 2000: 0.034197123876562784\n",
            "Cost after iteration 2100: 0.02416325854331199\n",
            "Cost after iteration 2200: 0.018215623856799677\n",
            "Cost after iteration 2300: 0.014442871929281282\n",
            "Cost after iteration 2400: 0.011852877970862003\n",
            "Cost after iteration 2500: 0.009972796706990746\n",
            "Cost after iteration 2600: 0.008554247257756657\n",
            "Cost after iteration 2700: 0.007443610275675306\n",
            "Cost after iteration 2800: 0.006542732076521012\n",
            "Cost after iteration 2900: 0.005809885780790675\n",
            "Cost after iteration 3000: 0.0051940571094002365\n",
            "Cost after iteration 3100: 0.004683881279670921\n",
            "Cost after iteration 3200: 0.004246933832924483\n",
            "Cost after iteration 3300: 0.003897255649008873\n",
            "Cost after iteration 3400: 0.0035992294395621838\n",
            "Cost after iteration 3500: 0.0033426478358808383\n",
            "Cost after iteration 3600: 0.003104821874300827\n",
            "Cost after iteration 3700: 0.0028943328086484263\n",
            "Cost after iteration 3800: 0.00271070260137202\n",
            "Cost after iteration 3900: 0.0025492812971299877\n",
            "Cost after iteration 4000: 0.002407561100889897\n",
            "Cost after iteration 4100: 0.00228156833586427\n",
            "Cost after iteration 4200: 0.0021670971673588596\n",
            "Cost after iteration 4300: 0.0020626022371017724\n",
            "Cost after iteration 4400: 0.0019670807684309135\n",
            "Cost after iteration 4500: 0.0018793014034829414\n",
            "Cost after iteration 4600: 0.001798326808661707\n",
            "Cost after iteration 4700: 0.0017235555356058887\n",
            "Cost after iteration 4800: 0.0016541315200390633\n",
            "Cost after iteration 4900: 0.001589658880512184\n"
          ]
        },
        {
          "output_type": "display_data",
          "data": {
            "text/plain": [
              "<Figure size 640x480 with 1 Axes>"
            ],
            "image/png": "[encoded data removed]"
          },
          "metadata": {}
        }
      ],
      "source": [
        "layers_dims = [train_x_flatten.shape[0], 64, 32,5]\n",
        "parameters = L_layer_model(train_x_flatten, train_y.T, layers_dims, learning_rate=0.01, num_iterations=5000, print_cost=True)"
      ]
    },
    {
      "cell_type": "code",
      "execution_count": 22,
      "id": "da2be803-282e-4b39-9885-9f9bcb292983",
      "metadata": {
        "colab": {
          "base_uri": "https://localhost:8080/"
        },
        "id": "da2be803-282e-4b39-9885-9f9bcb292983",
        "outputId": "4bc97201-5c06-40ff-eb50-787ceac95bac"
      },
      "outputs": [
        {
          "output_type": "stream",
          "name": "stdout",
          "text": [
            "Train Accuracy: 100.0%\n",
            "Test Accuracy: 38.0%\n"
          ]
        }
      ],
      "source": [
        "train_pred = predict(train_x_flatten, parameters)\n",
        "test_pred = predict(test_x_flatten, parameters)\n",
        "\n",
        "train_accuracy = np.mean(train_pred == np.argmax(train_y, axis=1)) * 100\n",
        "test_accuracy = np.mean(test_pred == np.argmax(test_y, axis=1)) * 100\n",
        "\n",
        "print(f\"Train Accuracy: {train_accuracy}%\")\n",
        "print(f\"Test Accuracy: {test_accuracy}%\")"
      ]
    },
    {
      "cell_type": "code",
      "execution_count": null,
      "id": "b218b00f-ea04-4b79-b8d7-b00e572b613b",
      "metadata": {
        "id": "b218b00f-ea04-4b79-b8d7-b00e572b613b"
      },
      "outputs": [],
      "source": []
    }
  ],
  "metadata": {
    "kernelspec": {
      "display_name": "Python 3 (ipykernel)",
      "language": "python",
      "name": "python3"
    },
    "language_info": {
      "codemirror_mode": {
        "name": "ipython",
        "version": 3
      },
      "file_extension": ".py",
      "mimetype": "text/x-python",
      "name": "python",
      "nbconvert_exporter": "python",
      "pygments_lexer": "ipython3",
      "version": "3.12.4"
    },
    "colab": {
      "provenance": []
    }
  },
  "nbformat": 4,
  "nbformat_minor": 5
}